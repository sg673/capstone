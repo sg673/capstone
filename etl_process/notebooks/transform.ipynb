{
 "cells": [
  {
   "cell_type": "code",
   "execution_count": null,
   "id": "e3aaaca6",
   "metadata": {},
   "outputs": [],
   "source": [
    "from pathlib import Path\n",
    "import pandas as pd\n",
    "\n",
    "def getFile(fileName):\n",
    "    data_path = \"../data/processed\" +\"/\"+ fileName\n",
    "    return pd.read_csv(data_path)\n",
    "\n",
    "airports_df = getFile(\"extract_airports.csv\")\n",
    "delay_df = getFile(\"extract_delay.csv\")"
   ]
  },
  {
   "cell_type": "code",
   "execution_count": null,
   "id": "remove_duplicates",
   "metadata": {},
   "outputs": [],
   "source": [
    "# Remove duplicate records\n",
    "airports_df = airports_df.drop_duplicates()\n",
    "delay_df = delay_df.drop_duplicates()"
   ]
  },
  {
   "cell_type": "code",
   "execution_count": null,
   "id": "handle_missing_values",
   "metadata": {},
   "outputs": [],
   "source": [
    "# Handle missing/null values\n",
    "airports_df.fillna({'name': 'Unknown', 'city': 'Unknown', 'iata': 'UNK', 'lat': 0, 'lon': 0, 'alt': 0}, inplace=True)\n",
    "delay_df.fillna(0, inplace=True)"
   ]
  },
  {
   "cell_type": "code",
   "execution_count": null,
   "id": "standardize_columns",
   "metadata": {},
   "outputs": [],
   "source": [
    "# Standardize column names\n",
    "airports_df.columns = airports_df.columns.str.lower().str.replace(' ', '_')\n",
    "delay_df.columns = delay_df.columns.str.lower().str.replace(' ', '_')"
   ]
  },
  {
   "cell_type": "code",
   "execution_count": null,
   "id": "convert_data_types",
   "metadata": {},
   "outputs": [],
   "source": [
    "# Convert columns to appropriate data types\n",
    "airports_df = airports_df.astype({'id': 'int64', 'name': 'string', 'city': 'string', 'iata': 'string', 'lat': 'float64', 'lon': 'float64', 'alt': 'int64'})\n",
    "delay_df = delay_df.astype({'year': 'int64', 'month': 'int64', 'carrier': 'string', 'carrier_name': 'string', 'airport': 'string', 'airport_name': 'string'})\n",
    "numeric_cols = ['arr_flights', 'arr_del15', 'carrier_ct', 'weather_ct', 'nas_ct', 'security_ct', 'late_aircraft_ct', 'arr_cancelled', 'arr_diverted', 'arr_delay', 'carrier_delay', 'weather_delay', 'nas_delay', 'security_delay', 'late_aircraft_delay']\n",
    "delay_df[numeric_cols] = delay_df[numeric_cols].astype('float64')"
   ]
  },
  {
   "cell_type": "code",
   "execution_count": null,
   "id": "save_data",
   "metadata": {},
   "outputs": [],
   "source": [
    "# Save transformed data\n",
    "output_path = Path(__file__).parent.parent / \"data\" / \"processed\"\n",
    "output_path.mkdir(exist_ok=True)\n",
    "airports_df.to_csv(output_path / \"transformed_airports.csv\", index=False)\n",
    "delay_df.to_csv(output_path / \"transformed_delay.csv\", index=False)"
   ]
  },
  {
   "cell_type": "code",
   "execution_count": null,
   "id": "ec9496a0",
   "metadata": {},
   "outputs": [],
   "source": [
    "data = pd.read_csv(\"../data/processed/extract_delay.csv\")\n",
    "\n",
    "\n",
    "duplicated_rows = data.duplicated()\n",
    "clean_data = data[~duplicated_rows]\n",
    "\n",
    "clean_data.columns = clean_data \\\n",
    "    .columns \\\n",
    "    .str.lower() \\\n",
    "    .str.replace(\" \", \"_\")\n",
    "\n",
    "\n",
    "CRITICAL_COLUMNS = ['year',\n",
    "                    'month',\n",
    "                    'carrier',\n",
    "                    'carrier_name',\n",
    "                    'airport',\n",
    "                    'airport_name']\n",
    "rows_before_drop = len(clean_data)\n",
    "clean_data = clean_data.dropna(subset=CRITICAL_COLUMNS)\n",
    "rows_dropped = rows_before_drop - len(clean_data)\n",
    "\n",
    "rows_before_fill = len(clean_data)\n",
    "clean_data = clean_data.fillna(0)\n",
    "rows_modified = rows_before_fill - len(clean_data)\n",
    "\n",
    "# arrays are AI generated\n",
    "str_cols = ['carrier',\n",
    "            'carrier_name',\n",
    "            'airport',\n",
    "            'airport_name']\n",
    "int_cols = ['year',\n",
    "            'month',\n",
    "            'arr_flights',\n",
    "            'arr_del15',\n",
    "            'arr_cancelled',\n",
    "            'arr_diverted',\n",
    "            'arr_delay',\n",
    "            'carrier_delay',\n",
    "            'weather_delay',\n",
    "            'nas_delay',\n",
    "            'security_delay',\n",
    "            'late_aircraft_delay']\n",
    "float_cols = ['carrier_ct',\n",
    "                'weather_ct',\n",
    "                'nas_ct',\n",
    "                'security_ct',\n",
    "                'late_aircraft_ct']\n",
    "clean_data[str_cols] = clean_data[str_cols].astype(\"string\")\n",
    "clean_data[int_cols] = clean_data[int_cols].astype(\"int64\")\n",
    "clean_data[float_cols] = clean_data[float_cols].astype(\"float64\")\n",
    "\n",
    "clean_data"
   ]
  }
 ],
 "metadata": {
  "kernelspec": {
   "display_name": ".venv",
   "language": "python",
   "name": "python3"
  },
  "language_info": {
   "codemirror_mode": {
    "name": "ipython",
    "version": 3
   },
   "file_extension": ".py",
   "mimetype": "text/x-python",
   "name": "python",
   "nbconvert_exporter": "python",
   "pygments_lexer": "ipython3",
   "version": "3.13.7"
  }
 },
 "nbformat": 4,
 "nbformat_minor": 5
}
